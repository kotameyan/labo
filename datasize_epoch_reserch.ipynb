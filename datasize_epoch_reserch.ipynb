{
 "cells": [
  {
   "attachments": {},
   "cell_type": "markdown",
   "metadata": {},
   "source": [
    "## 学習データ数及びエポック数がどの程度モデルの精度に影響を与えるか調べる。"
   ]
  },
  {
   "attachments": {},
   "cell_type": "markdown",
   "metadata": {},
   "source": [
    "### 💬 概要説明"
   ]
  },
  {
   "attachments": {},
   "cell_type": "markdown",
   "metadata": {},
   "source": [
    "ベースになるモデルはYOLO v8 (x)である。  \n",
    "まずエポック数「3」で徐々に学習データを増やしていく。  \n",
    "一連の流れが終わったら、次にエポック数を「6」「9」「12」「15」「18」「21」「24」と増やしていく。"
   ]
  },
  {
   "attachments": {},
   "cell_type": "markdown",
   "metadata": {},
   "source": [
    "### 👨‍💻 ライブラリのインポート"
   ]
  },
  {
   "cell_type": "code",
   "execution_count": null,
   "metadata": {},
   "outputs": [],
   "source": [
    "# 機械学習ライブラリ\n",
    "from ultralytics import YOLO\n",
    "\n",
    "# ユーティリティライブラリ\n",
    "import os\n",
    "import json\n",
    "\n",
    "# データ分析ライブラリ\n",
    "import pandas as pd\n",
    "\n",
    "# データ可視化ライブラリ\n",
    "import matplotlib.pyplot as plt\n",
    "from mpl_toolkits.mplot3d import Axes3D\n",
    "\n",
    "# その他のライブラリ\n",
    "import labo"
   ]
  },
  {
   "attachments": {},
   "cell_type": "markdown",
   "metadata": {},
   "source": [
    "### 👨‍💻 モデルの作成"
   ]
  },
  {
   "cell_type": "code",
   "execution_count": null,
   "metadata": {},
   "outputs": [],
   "source": [
    "# データセットのリストを作成\n",
    "data_list = [f'./datasets_path/data_{i}.yaml' for i in range(1, 7)]"
   ]
  },
  {
   "cell_type": "code",
   "execution_count": null,
   "metadata": {},
   "outputs": [],
   "source": [
    "# エポック数を変えながらモデル作りを繰り返す(3,6,9,12,15,18,21,24)\n",
    "for epoch_size in range(3,25,3):\n",
    "\n",
    "    # 指定されたエポック数で徐々に学習データを増やしていく\n",
    "    for i, data in enumerate(data_list, start=1):\n",
    "\n",
    "        # 以前のモデルを読み込む\n",
    "        if i == 1:\n",
    "            model = YOLO('yolov8x.pt')\n",
    "        else:\n",
    "            model = YOLO(model_path)\n",
    "\n",
    "        # 学習 → モデルを保存\n",
    "        model.train(data=data, epochs=epoch_size)\n",
    "\n",
    "        # 評価 → 結果を保存\n",
    "        model.val(save_json=True)\n",
    "\n",
    "        # 次の追加学習に向けて、今作ったモデルを呼び出すためのパスを更新する\n",
    "        if i==1:\n",
    "            model_path = './runs/detect/train/weights/best.pt'\n",
    "        else:\n",
    "            model_path = f'./runs/detect/train{i}/weights/best.pt'\n",
    "    \n",
    "    # 各学習データ数でのモデルの精度の検証結果（JSON）をval_jsonフォルダに集める\n",
    "    detect_folder_path = './runs/detect'\n",
    "    labo.save_val_json(detect_folder_path)\n",
    "\n",
    "    # どのエポック数で行ったのかわかるようにrunsフォルダの名前を改名する\n",
    "    os.rename('./runs', f'./runs_epoch_{epoch_size}')"
   ]
  },
  {
   "attachments": {},
   "cell_type": "markdown",
   "metadata": {},
   "source": [
    "### 💬 フォルダ構成、JSONの中身を確認"
   ]
  },
  {
   "attachments": {},
   "cell_type": "markdown",
   "metadata": {},
   "source": [
    "##### フォルダ構成(例)  \n",
    "runs_epoch_3  \n",
    "-detect  \n",
    "--val_json  \n",
    "---predictions_1.json  \n",
    "---predictions_2.json  \n",
    "---predictions_3.json  \n",
    "---predictions_4.json  \n",
    "---predictions_5.json  \n",
    "---predictions_6.json  "
   ]
  },
  {
   "attachments": {},
   "cell_type": "markdown",
   "metadata": {},
   "source": [
    "##### JSONの中身(例)\n",
    "{\n",
    "        \"image_id\": \"4_24_00601\",\n",
    "        \"category_id\": 0,\n",
    "        \"bbox\": [\n",
    "            323.166,\n",
    "            2687.309,\n",
    "            115.57,\n",
    "            126.051\n",
    "        ],\n",
    "        \"score\": 0.95765\n",
    "    },"
   ]
  },
  {
   "attachments": {},
   "cell_type": "markdown",
   "metadata": {},
   "source": [
    "### 👨‍💻 検証結果をデータフレーム化"
   ]
  },
  {
   "cell_type": "code",
   "execution_count": null,
   "metadata": {},
   "outputs": [],
   "source": [
    "# 訓練データ数の対応表\n",
    "train_data_dict = {\"1\": 20, \"2\": 40, \"3\": 60, \"4\": 80, \"5\": 100, \"6\": 124}"
   ]
  },
  {
   "cell_type": "code",
   "execution_count": null,
   "metadata": {},
   "outputs": [],
   "source": [
    "# データフレームの初期化\n",
    "df = pd.DataFrame(columns=[\"Epochs\", \"Training Data\", \"Score\"])"
   ]
  },
  {
   "cell_type": "code",
   "execution_count": null,
   "metadata": {},
   "outputs": [],
   "source": [
    "# ルートディレクトリの指定\n",
    "root_dir = \".\""
   ]
  },
  {
   "cell_type": "code",
   "execution_count": null,
   "metadata": {},
   "outputs": [],
   "source": [
    "# ルートディレクトリ内の各エポックディレクトリに対して\n",
    "for epoch_dir in os.listdir(root_dir):\n",
    "    if \"runs_epoch_\" in epoch_dir:\n",
    "        epochs = int(epoch_dir.split(\"_\")[-1])  # エポック数の取得\n",
    "        json_dir = os.path.join(root_dir, epoch_dir, \"detect\", \"val_json\")\n",
    "\n",
    "        # JSONディレクトリ内の各JSONファイルに対して\n",
    "        for json_file in os.listdir(json_dir):\n",
    "            if \"predictions_\" in json_file:\n",
    "                training_data = train_data_dict[json_file.split(\"_\")[-1].split(\".\")[0]]  # 訓練データ数の取得\n",
    "\n",
    "                # JSONファイルの読み込み\n",
    "                with open(os.path.join(json_dir, json_file), \"r\") as f:\n",
    "                    data = json.load(f)\n",
    "\n",
    "                # スコアの平均値の計算\n",
    "                score_avg = sum([item[\"score\"] for item in data]) / len(data)\n",
    "\n",
    "                # データフレームへのデータの追加\n",
    "                df = df.append({\"Epochs\": epochs, \"Training Data\": training_data, \"Score\": score_avg}, ignore_index=True)"
   ]
  },
  {
   "cell_type": "code",
   "execution_count": null,
   "metadata": {},
   "outputs": [],
   "source": [
    "# データフレームの表示\n",
    "print(df)"
   ]
  },
  {
   "attachments": {},
   "cell_type": "markdown",
   "metadata": {},
   "source": [
    "### 👨‍💻 3次元グラフの作成"
   ]
  },
  {
   "attachments": {},
   "cell_type": "markdown",
   "metadata": {},
   "source": [
    "x軸：エポック数  \n",
    "y軸：訓練データ数  \n",
    "z軸：モデルの精度"
   ]
  },
  {
   "cell_type": "code",
   "execution_count": null,
   "metadata": {},
   "outputs": [],
   "source": [
    "# 3Dグラフの作成\n",
    "fig = plt.figure()\n",
    "ax = fig.add_subplot(111, projection='3d')\n",
    "\n",
    "# データのプロット\n",
    "ax.scatter(df[\"Epochs\"], df[\"Training Data\"], df[\"Score\"])\n",
    "\n",
    "# 軸ラベルの設定\n",
    "ax.set_xlabel('Epochs')\n",
    "ax.set_ylabel('Training Data')\n",
    "ax.set_zlabel('Score')"
   ]
  },
  {
   "cell_type": "code",
   "execution_count": null,
   "metadata": {},
   "outputs": [],
   "source": [
    "# グラフの保存\n",
    "plt.savefig(os.path.expanduser(\"~/Desktop/3d_plot.png\"))"
   ]
  },
  {
   "cell_type": "code",
   "execution_count": null,
   "metadata": {},
   "outputs": [],
   "source": [
    "# Notebook内でグラフを表示\n",
    "plt.show()"
   ]
  }
 ],
 "metadata": {
  "kernelspec": {
   "display_name": "Python 3",
   "language": "python",
   "name": "python3"
  },
  "language_info": {
   "name": "python",
   "version": "3.9.6"
  },
  "orig_nbformat": 4
 },
 "nbformat": 4,
 "nbformat_minor": 2
}
