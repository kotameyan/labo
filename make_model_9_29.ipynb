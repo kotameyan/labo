{
 "cells": [
  {
   "cell_type": "markdown",
   "metadata": {},
   "source": [
    "# 本番のデータを使ってモデルを作る"
   ]
  },
  {
   "cell_type": "markdown",
   "metadata": {},
   "source": [
    "接続テスト"
   ]
  },
  {
   "cell_type": "code",
   "execution_count": null,
   "metadata": {},
   "outputs": [],
   "source": [
    "import torch\n",
    "\n",
    "print(f\"Pytorchのバージョン：{torch.__version__}\")\n",
    "\n",
    "print(f\"CUDAの利用可否：{torch.cuda.is_available()}\")\n",
    "\n",
    "device_num:int = torch.cuda.device_count()\n",
    "print(f\"発見されたGPUデバイス数：{device_num}\")\n",
    "for idx in range(device_num):\n",
    "    print(f\"デバイス番号：{idx} | デバイス名：{torch.cuda.get_device_name(idx)}\")"
   ]
  },
  {
   "cell_type": "markdown",
   "metadata": {},
   "source": [
    "必要なライブラリをインポート"
   ]
  },
  {
   "cell_type": "code",
   "execution_count": null,
   "metadata": {},
   "outputs": [],
   "source": [
    "# Standard libraries\n",
    "import os\n",
    "import random\n",
    "import shutil\n",
    "import datetime\n",
    "\n",
    "# Third-party libraries\n",
    "import matplotlib.pyplot as plt\n",
    "from ultralytics import YOLO\n",
    "\n",
    "# Jupyter magic command\n",
    "%matplotlib inline"
   ]
  },
  {
   "cell_type": "markdown",
   "metadata": {},
   "source": [
    "必要な関数を定義"
   ]
  },
  {
   "cell_type": "code",
   "execution_count": null,
   "metadata": {},
   "outputs": [],
   "source": [
    "# rawdata → 複数のフォルダへ振り分ける関数\n",
    "# 引数：folder1_path, folder1_ratio, folder2_path, folder2_ratio, ...\n",
    "\n",
    "def split_and_copy_data(*args):\n",
    "    if len(args) % 2 != 0 or len(args) < 4:\n",
    "        raise ValueError(\"Arguments should be even and at least consist of 2 folder paths and their ratios.\")\n",
    "    \n",
    "    total_ratio = sum(args[1::2])\n",
    "    if not 0.99 <= total_ratio <= 1.01:\n",
    "        raise ValueError(\"Sum of all ratios should be close to 1 (or 100%).\")\n",
    "    \n",
    "    # 1. Count files in rawdata/images\n",
    "    rawdata_path = \"../datasets/rawdata\"\n",
    "    rawdata_images_path = os.path.join(rawdata_path, \"images\")\n",
    "    all_files = os.listdir(rawdata_images_path)\n",
    "    paired_files = [f for f in all_files if f.endswith('.png') and f[:-4] + '.txt' in os.listdir(os.path.join(rawdata_path, \"labels\"))]\n",
    "    \n",
    "    paired_files_count = len(paired_files)\n",
    "    print(f\"Total paired files: {paired_files_count}\")\n",
    "    \n",
    "    # Shuffle and split the files\n",
    "    random.shuffle(paired_files)\n",
    "    \n",
    "    last_index = 0\n",
    "    for i in range(0, len(args), 2):\n",
    "        folder_path = args[i]\n",
    "        ratio = args[i+1]\n",
    "        \n",
    "        images_folder_path = os.path.join(folder_path, 'images')\n",
    "        labels_folder_path = os.path.join(folder_path, 'labels')\n",
    "        \n",
    "        # Clear the contents if the target folders are not empty.\n",
    "        for subfolder in [images_folder_path, labels_folder_path]:\n",
    "            if os.listdir(subfolder):\n",
    "                for file in os.listdir(subfolder):\n",
    "                    os.remove(os.path.join(subfolder, file))\n",
    "                print(f\"Contents in {subfolder} were deleted to proceed.\")\n",
    "        \n",
    "        count_files_for_current_folder = int(paired_files_count * ratio)\n",
    "        selected_files = paired_files[last_index:last_index + count_files_for_current_folder]\n",
    "        last_index += count_files_for_current_folder\n",
    "        \n",
    "        # Copy paired png and txt files\n",
    "        for f in selected_files:\n",
    "            shutil.copy(os.path.join(rawdata_images_path, f), images_folder_path)\n",
    "            shutil.copy(os.path.join(rawdata_path, \"labels\", f[:-4] + '.txt'), labels_folder_path)\n",
    "        \n",
    "        print(f\"Copied {count_files_for_current_folder} paired files to {folder_path}\")\n",
    "    \n",
    "    print(\"Finished copying files!\")\n",
    "\n",
    "# 実行例\n",
    "# split_and_copy_data(\"../datasets/train\", 0.8, \"../datasets/valid\", 0.2)\n",
    "# split_and_copy_data(\"../datasets/train\", 0.6, \"../datasets/valid\", 0.2, \"../datasets/test\", 0.2)\n"
   ]
  },
  {
   "cell_type": "code",
   "execution_count": null,
   "metadata": {},
   "outputs": [],
   "source": [
    "# 特定のフォルダ内のデータを削除する関数\n",
    "\n",
    "def clear_data(directory_path):\n",
    "\n",
    "    images_path = os.path.join(directory_path, \"images\")\n",
    "    labels_path = os.path.join(directory_path, \"labels\")\n",
    "\n",
    "    # imagesフォルダ内のファイルを削除\n",
    "    for filename in os.listdir(images_path):\n",
    "        file_path = os.path.join(images_path, filename)\n",
    "        try:\n",
    "            if os.path.isfile(file_path) or os.path.islink(file_path):\n",
    "                os.unlink(file_path)  # ファイルまたはシンボリックリンクを削除\n",
    "            elif os.path.isdir(file_path):\n",
    "                shutil.rmtree(file_path)  # ディレクトリを削除\n",
    "        except Exception as e:\n",
    "            print(f\"Failed to delete {file_path}. Reason: {e}\")\n",
    "\n",
    "    # labelsフォルダ内のファイルを削除\n",
    "    for filename in os.listdir(labels_path):\n",
    "        file_path = os.path.join(labels_path, filename)\n",
    "        try:\n",
    "            if os.path.isfile(file_path) or os.path.islink(file_path):\n",
    "                os.unlink(file_path)  # ファイルまたはシンボリックリンクを削除\n",
    "            elif os.path.isdir(file_path):\n",
    "                shutil.rmtree(file_path)  # ディレクトリを削除\n",
    "        except Exception as e:\n",
    "            print(f\"Failed to delete {file_path}. Reason: {e}\")\n",
    "    \n",
    "    # フォルダ名を取得してメッセージに使用\n",
    "    directory_name = os.path.basename(directory_path)\n",
    "    print(f\"{directory_name} directory has been cleared!\")\n",
    "\n",
    "# 実行例\n",
    "# clear_data(\"../datasets/train\")\n",
    "# clear_data(\"../datasets/valid\")\n"
   ]
  },
  {
   "cell_type": "markdown",
   "metadata": {},
   "source": [
    "モデルの作成"
   ]
  },
  {
   "cell_type": "code",
   "execution_count": null,
   "metadata": {},
   "outputs": [],
   "source": [
    "# rawdata → train,validへの振り分け\n",
    "train_path = \"../datasets/train\"\n",
    "valid_path = \"../datasets/valid\"\n",
    "split_and_copy_data(train_path, 0.8, valid_path, 0.2)"
   ]
  },
  {
   "cell_type": "code",
   "execution_count": null,
   "metadata": {},
   "outputs": [],
   "source": [
    "# ベースとなるmodelの読み込み\n",
    "model = YOLO('yolov8m.pt')"
   ]
  },
  {
   "cell_type": "code",
   "execution_count": null,
   "metadata": {},
   "outputs": [],
   "source": [
    "# ベースのmodelに追加学習\n",
    "start = torch.cuda.Event(enable_timing=True)\n",
    "end = torch.cuda.Event(enable_timing=True)\n",
    "\n",
    "start.record()\n",
    "model.train(data=\"../datasets/data.yaml\", epochs=100, batch=-1, device=0)\n",
    "end.record()\n",
    "\n",
    "torch.cuda.synchronize()\n",
    "elapsed_time = start.elapsed_time(end) / 1000\n",
    "\n",
    "print('---------------------------------')\n",
    "print(f'学習時間 : {elapsed_time} 秒')"
   ]
  },
  {
   "cell_type": "code",
   "execution_count": null,
   "metadata": {},
   "outputs": [],
   "source": [
    "# 完成したmodelの性能を評価\n",
    "metrics = model.val()"
   ]
  },
  {
   "cell_type": "code",
   "execution_count": null,
   "metadata": {},
   "outputs": [],
   "source": [
    "# train,valid内のデータを削除\n",
    "clear_data(train_path)\n",
    "clear_data(valid_path)"
   ]
  },
  {
   "cell_type": "markdown",
   "metadata": {},
   "source": [
    "モデルを使用"
   ]
  },
  {
   "cell_type": "code",
   "execution_count": null,
   "metadata": {},
   "outputs": [],
   "source": [
    "# 画像識別に使う画像を確認\n",
    "\n",
    "before_img_1_addr = \"../datasets/predict/predict_1.png\"\n",
    "\n",
    "before_img_1 = plt.imread(before_img_1_addr)\n",
    "plt.imshow(before_img_1)\n",
    "plt.show()"
   ]
  },
  {
   "cell_type": "code",
   "execution_count": null,
   "metadata": {},
   "outputs": [],
   "source": [
    "# モデルを使って画像識別\n",
    "\n",
    "model.predict(before_img_1_addr, save=True)"
   ]
  },
  {
   "cell_type": "code",
   "execution_count": null,
   "metadata": {},
   "outputs": [],
   "source": [
    "# 識別結果を出力\n",
    "\n",
    "after_img_1_addr = \"./runs/detect/predict/predict_1.png\"\n",
    "\n",
    "after_img_1 = plt.imread(after_img_1_addr)\n",
    "plt.imshow(after_img_1)\n",
    "plt.show()"
   ]
  },
  {
   "cell_type": "markdown",
   "metadata": {},
   "source": [
    "runsを保存する"
   ]
  },
  {
   "cell_type": "code",
   "execution_count": null,
   "metadata": {},
   "outputs": [],
   "source": [
    "# 現在日時を取得\n",
    "\n",
    "dt_now = datetime.datetime.now()\n",
    "print(dt_now)"
   ]
  },
  {
   "cell_type": "code",
   "execution_count": null,
   "metadata": {},
   "outputs": [],
   "source": [
    "# 現在日時をもとにrunsフォルダの名前を変更\n",
    "\n",
    "runs_add = dt_now.strftime(\"%m_%d_%H_%M\")\n",
    "os.rename(\"runs\", f\"runs_{runs_add}\")"
   ]
  },
  {
   "cell_type": "code",
   "execution_count": null,
   "metadata": {},
   "outputs": [],
   "source": [
    "# runs_{runs_add}フォルダをruns_archiveフォルダに移動\n",
    "\n",
    "shutil.move(f\"runs_{runs_add}\", f\"runs_archive/runs_{runs_add}\")"
   ]
  }
 ],
 "metadata": {
  "kernelspec": {
   "display_name": ".venv",
   "language": "python",
   "name": "python3"
  },
  "language_info": {
   "codemirror_mode": {
    "name": "ipython",
    "version": 3
   },
   "file_extension": ".py",
   "mimetype": "text/x-python",
   "name": "python",
   "nbconvert_exporter": "python",
   "pygments_lexer": "ipython3",
   "version": "3.10.12"
  },
  "orig_nbformat": 4
 },
 "nbformat": 4,
 "nbformat_minor": 2
}
